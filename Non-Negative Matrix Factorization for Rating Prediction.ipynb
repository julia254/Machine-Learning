{
 "cells": [
  {
   "cell_type": "markdown",
   "id": "dda5e4da",
   "metadata": {},
   "source": [
    "# Non-Negative Matrix Factorization for Predicting Missing Ratings (Recommender System) "
   ]
  },
  {
   "cell_type": "code",
   "execution_count": 2,
   "id": "c5b047d1",
   "metadata": {},
   "outputs": [],
   "source": [
    "import pandas as pd\n",
    "import numpy as np\n",
    "from sklearn.decomposition import NMF\n",
    "from sklearn.model_selection import train_test_split\n",
    "from sklearn.metrics import mean_squared_error "
   ]
  },
  {
   "cell_type": "code",
   "execution_count": 9,
   "id": "9faf8eaa",
   "metadata": {},
   "outputs": [],
   "source": [
    "#Load the .dat file using pandas, specifying the separator as \"::\"\n",
    "\n",
    "column_names = ['userID', 'movieID', 'Rating', 'Timestamp']\n",
    "data = pd.read_csv('ratings.dat', sep='::', engine='python', header=None,  names=column_names)\n",
    "\n",
    "df = data.copy().drop('Timestamp', axis = 1)\n",
    "\n",
    "ratings_matrix = df.pivot(index='userID', columns='movieID', values='Rating')\n",
    "ratings_matrix_na = ratings_matrix.fillna(0)\n",
    "ratings_matrix_3 = ratings_matrix.fillna(3)\n",
    "ratings_matrix_avg = ratings_matrix.apply(lambda x: x.fillna(x.mean()), axis=1)"
   ]
  },
  {
   "cell_type": "code",
   "execution_count": 43,
   "id": "286f8543",
   "metadata": {},
   "outputs": [],
   "source": [
    "train_x, test_x = train_test_split(df, test_size = 0.3)\n",
    "\n",
    "test_x_df = test_x.copy()\n",
    "test_x_mat = test_x_df.pivot(index='userID', columns='movieID', values='Rating')\n",
    "test_x_mat_0 = test_x_mat.fillna(0)\n",
    "test_x_mat_3 = test_x_mat.fillna(3)\n",
    "test_x_mat_avg = test_x_mat.apply(lambda x: x.fillna(x.mean()), axis=1)\n"
   ]
  },
  {
   "cell_type": "code",
   "execution_count": 37,
   "id": "a8c97bc5",
   "metadata": {},
   "outputs": [],
   "source": [
    "\n",
    "def fetch_latent_factors (ratings_matrix):\n",
    "    \n",
    "    nmf = NMF(n_components = 10, random_state=42)\n",
    "\n",
    "    W = nmf.fit_transform(ratings_matrix) \n",
    "    H = nmf.components_\n",
    "    \n",
    "    \n",
    "    return np.dot(W, H)\n",
    "\n",
    "\n",
    "def array_to_df(arr) :\n",
    "    \n",
    "    #### remove movies where user did not provide a ratings\n",
    "    mat_to_df = pd.DataFrame(arr)\n",
    "    mat_to_df.columns = ratings_matrix.columns.tolist()\n",
    "\n",
    "    mat_to_df = mat_to_df.reset_index()\n",
    "    mat_to_df[\"userID\"] =  ratings_matrix.index.tolist()\n",
    "    mat_to_df.drop(columns = 'index', inplace = True)\n",
    "\n",
    "\n",
    "    return mat_to_df.melt(id_vars='userID', var_name='movieID', value_name='Rating')\n",
    "\n",
    "\n",
    "def test_array_to_df(arr) :\n",
    "    \n",
    "    #### remove movies where user did not provide a ratings\n",
    "    mat_to_df = pd.DataFrame(arr)\n",
    "    mat_to_df.columns = test_x_mat.columns.tolist()\n",
    "\n",
    "    mat_to_df = mat_to_df.reset_index()\n",
    "    mat_to_df[\"userID\"] =  test_x_mat.index.tolist()\n",
    "    mat_to_df.drop(columns = 'index', inplace = True)\n",
    "\n",
    "\n",
    "    return mat_to_df.melt(id_vars='userID', var_name='movieID', value_name='Rating')"
   ]
  },
  {
   "cell_type": "markdown",
   "id": "76e49a3f",
   "metadata": {},
   "source": [
    "# Predicting on the Test dataset"
   ]
  },
  {
   "cell_type": "code",
   "execution_count": 71,
   "id": "657d0a09",
   "metadata": {},
   "outputs": [],
   "source": [
    "\n",
    "# Fetch latent factors \n",
    "\n",
    "results_test = []\n",
    "\n",
    "\n",
    "i = 0 \n",
    "for mat in [test_x_mat_0, test_x_mat_3, test_x_mat_avg]:\n",
    "    \n",
    "    names = ['predict to zero', 'predict to 3', 'predict to average']\n",
    "    \n",
    "    R_pred  = fetch_latent_factors(mat)\n",
    "    R_pred_df = test_array_to_df(R_pred)\n",
    "\n",
    "    # convert wide form array to long form dataframe \n",
    "    # filter for test data observations \n",
    "    test_ids = test_x.copy()\n",
    "    test_ids = test_ids.drop(columns = 'Rating')\n",
    "    predicted_ratings = pd.merge(test_ids, R_pred_df, on = ['userID', 'movieID'])\n",
    "\n",
    "    # calculate rmse \n",
    "    rmse = np.sqrt(mean_squared_error(test_x['Rating'],  predicted_ratings['Rating'])) \n",
    "\n",
    "    output = {\n",
    "        'Utility Matrix': names[i],\n",
    "        \"RMSE\": rmse}\n",
    "    \n",
    "    i +=1\n",
    "    results_test.append(output)\n"
   ]
  },
  {
   "cell_type": "code",
   "execution_count": 72,
   "id": "a3226653",
   "metadata": {},
   "outputs": [
    {
     "data": {
      "text/plain": [
       "[{'Utility Matrix': 'predict to zero', 'RMSE': 3.3281809882269298},\n",
       " {'Utility Matrix': 'predict to 3', 'RMSE': 1.195592708900382},\n",
       " {'Utility Matrix': 'predict to average', 'RMSE': 1.0084466425344496}]"
      ]
     },
     "execution_count": 72,
     "metadata": {},
     "output_type": "execute_result"
    }
   ],
   "source": [
    "results_test"
   ]
  },
  {
   "cell_type": "markdown",
   "id": "b117507c",
   "metadata": {},
   "source": [
    "# Predicting on the Full dataset"
   ]
  },
  {
   "cell_type": "code",
   "execution_count": 67,
   "id": "da4bf2ef",
   "metadata": {},
   "outputs": [],
   "source": [
    "\n",
    "\n",
    "results_full = []\n",
    "i = 0 \n",
    "\n",
    "for mat in [ratings_matrix_na, ratings_matrix_3, ratings_matrix_avg]:\n",
    "    \n",
    "    names = ['predict to zero', 'predict to 3', 'predict to average']\n",
    "    \n",
    "    # Fetch latent factors \n",
    "    R_pred  = fetch_latent_factors(mat)\n",
    "    R_pred_df = array_to_df(R_pred)\n",
    "\n",
    "    # convert wide form array to long form dataframe \n",
    "    # filter for test data observations \n",
    "    test_ids = test_x.copy()\n",
    "    test_ids = test_ids.drop(columns = 'Rating')\n",
    "    predicted_ratings = pd.merge(test_ids, R_pred_df, on = ['userID', 'movieID'])\n",
    "\n",
    "    # calculate rmse \n",
    "    rmse = np.sqrt(mean_squared_error(test_x['Rating'],  predicted_ratings['Rating'])) \n",
    "\n",
    "    output = {\n",
    "        'Utility Matrix': names[i],\n",
    "        \"RMSE\": rmse}\n",
    "    \n",
    "    i +=1\n",
    "    results_full.append(output)\n"
   ]
  },
  {
   "cell_type": "code",
   "execution_count": 68,
   "id": "5874873d",
   "metadata": {},
   "outputs": [
    {
     "data": {
      "text/plain": [
       "[{'Utility Matrix': 'predict to zero', 'RMSE': 2.6000984907701445},\n",
       " {'Utility Matrix': 'predict to 3', 'RMSE': 1.076552361480837},\n",
       " {'Utility Matrix': 'predict to average', 'RMSE': 0.9693377333380649}]"
      ]
     },
     "execution_count": 68,
     "metadata": {},
     "output_type": "execute_result"
    }
   ],
   "source": [
    "results_full"
   ]
  },
  {
   "cell_type": "markdown",
   "id": "ebdc42b1",
   "metadata": {},
   "source": [
    "# Discussion"
   ]
  },
  {
   "cell_type": "markdown",
   "id": "6b8e0046",
   "metadata": {},
   "source": [
    "\n",
    "When comparing the performance of NMF with baseline and similarity-based methods, similarity-based approaches outperform NMF. The Root Mean Square Error (RMSE) quantifies the difference between predicted and actual values, with lower values indicating a better model fit. In this analysis, I evaluated movie rating predictions using both a subset of the data and the entire dataset. The results indicate that NMF performs worst when the ratings matrix is imputed with zeros. However, its performance improves when the ratings matrix is imputed with user averages or neutral ratings. Overall, using the full dataset proves more beneficial for achieving a better model fit. When the full matrix is imputed with user averages, NMF’s predictions approach the performance of collaborative filtering methods.\n",
    "\n",
    "#### Here are some explainations why NMF doesn't always perform as well: \n",
    "1.\t**Sparsity of Data:** The Movie rating datasets are often very sparse (many missing values). NMF, while useful, may struggle with sparsity because it relies on matrix factorization which assumes a relatively dense interaction pattern.\n",
    "\n",
    "2.\t**Assumptions of Non-Negativity:** NMF enforces non-negativity on the factorized matrices. While this can be beneficial in some contexts, it may not always be suitable for all types of data, especially if the ratings are not strictly positive or if the non-negativity constraint does not align well with the underlying data structure.\n",
    "\n",
    "\n",
    "3.\t**Hyperparameter Sensitivity:** The performance of NMF can be sensitive to hyperparameters like the number of components. Choosing the right number of components is crucial, and a suboptimal choice can lead to poor performance.\n",
    "\n",
    "4.\t**Model Complexity:** NMF can be more complex to tune and train compared to simpler models like mean imputation or user-item similarity-based methods, which are straightforward and might give reasonably good results with less computational effort.\n",
    "\n",
    "\n",
    "#### Suggestions for Improvement\n",
    "1.\t**Matrix Completion Techniques:** Matrix completion techniques might handle sparsity better. For example, simply imputing the user average or neutral rating value significantly lowers the RMSE. More advanced methods may also lead to improvement. \n",
    "\n",
    "2.\t**Regularization:** Apply regularization to prevent overfitting and handle sparsity better. The sklearn.decomposition.NMF class provides regularization options like alpha and l1_ratio.\n",
    "\n",
    "3.\t**Hyperparameter Tuning:** Experiment with different numbers of components and other hyperparameters such as L1_ratio or alpha to find the optimal configuration.\n",
    "\n",
    "4.\t**Hybrid Models:** Combine NMF with other methods like collaborative filtering or content-based approaches to leverage the strengths of multiple techniques.\n"
   ]
  },
  {
   "cell_type": "code",
   "execution_count": 73,
   "id": "1c0d7ec1",
   "metadata": {},
   "outputs": [],
   "source": [
    "\n",
    "results_NMF_full = pd.DataFrame(results_full)\n",
    "results_NMF_test = pd.DataFrame(results_test)\n",
    "\n",
    "\n",
    "results_Similarity = pd.DataFrame({\n",
    "    'Utility Matrix': ['predict to 3', 'predict to User Average', 'Content based', 'Collaborative-jaccard'],\n",
    "    'RMSE': [1.26, 1.04, 1.01, 0.95]\n",
    "})\n"
   ]
  },
  {
   "cell_type": "code",
   "execution_count": 74,
   "id": "c4a36920",
   "metadata": {},
   "outputs": [
    {
     "data": {
      "text/plain": [
       "Text(0, 0.5, 'RMSE')"
      ]
     },
     "execution_count": 74,
     "metadata": {},
     "output_type": "execute_result"
    },
    {
     "data": {
      "image/png": "[encoded data removed]",
      "text/plain": [
       "<Figure size 432x288 with 1 Axes>"
      ]
     },
     "metadata": {},
     "output_type": "display_data"
    }
   ],
   "source": [
    "# Plot for results_NMF\n",
    "plt.bar(results_NMF_test['Utility Matrix'], results_NMF_test['RMSE'], color='blue')\n",
    "plt.title('NMF RMSE (test data only)')\n",
    "plt.xlabel('Utility Matrix Type')\n",
    "plt.ylabel('RMSE')\n",
    "\n"
   ]
  },
  {
   "cell_type": "code",
   "execution_count": 36,
   "id": "3a133828",
   "metadata": {},
   "outputs": [
    {
     "data": {
      "image/png": "[encoded data removed]",
      "text/plain": [
       "<Figure size 1152x432 with 2 Axes>"
      ]
     },
     "metadata": {},
     "output_type": "display_data"
    }
   ],
   "source": [
    "import matplotlib.pyplot as plt\n",
    "\n",
    "# Plotting\n",
    "fig, (ax1, ax2) = plt.subplots(1, 2, figsize=(16, 6))\n",
    "\n",
    "# Plot for results_NMF\n",
    "ax1.bar(results_NMF['Utility Matrix Type'], results_NMF['RMSE'], color='skyblue')\n",
    "ax1.set_title('NMF RMSE')\n",
    "ax1.set_xlabel('Utility Matrix Type')\n",
    "ax1.set_ylabel('RMSE')\n",
    "#ax1.tick_params(axis='x', rotation=45, ha='right')\n",
    "\n",
    "# Plot for results_Similarity\n",
    "ax2.bar(results_Similarity['Utility Matrix Type'], results_Similarity['RMSE'], color='lightgreen')\n",
    "ax2.set_title('Similarity-Based RMSE')\n",
    "ax2.set_xlabel('Utility Matrix Type')\n",
    "ax2.set_ylabel('RMSE')\n",
    "#ax2.tick_params(axis='x', rotation=45, ha='right')\n",
    "ax2.set_ylim(0, 2.6)\n",
    "\n",
    "# Adjust layout\n",
    "plt.tight_layout()\n",
    "\n",
    "# Show plot\n",
    "plt.show()\n"
   ]
  }
 ],
 "metadata": {
  "kernelspec": {
   "display_name": "Python 3 (Spyder)",
   "language": "python3",
   "name": "python3"
  },
  "language_info": {
   "codemirror_mode": {
    "name": "ipython",
    "version": 3
   },
   "file_extension": ".py",
   "mimetype": "text/x-python",
   "name": "python",
   "nbconvert_exporter": "python",
   "pygments_lexer": "ipython3",
   "version": "3.9.18"
  }
 },
 "nbformat": 4,
 "nbformat_minor": 5
}
