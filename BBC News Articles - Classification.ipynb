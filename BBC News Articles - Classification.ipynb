{
 "cells": [
  {
   "cell_type": "markdown",
   "id": "c067eedd",
   "metadata": {},
   "source": [
    "# BBC News Topic Modeling Using Non-Negative Matrix Factorization "
   ]
  },
  {
   "cell_type": "markdown",
   "id": "7d0b2fdb",
   "metadata": {},
   "source": [
    "This repository features an implementation of Non-Negative Matrix Factorization for clustering BBC News articles into multiple categories. Developed using Scikit-Learn and Python, the project aims to apply Natural Language Processing (NLP) over a collection of BBC News texts, extract latent features through NMF, and identify relevant \"topics\". Topic modeling is an unsupervised learning approach to document clustering based on the topics of their content. The performance of this unsupervised algorithm will be compared to that of several supervised algorithms, including Logistic Regression, Multinomial Naive Bayes, Linear Support Vector Classification, and Random Forest. \n",
    "\n",
    "The [BBC News Classification dataset](https://www.kaggle.com/competitions/learn-ai-bbc/overview) is used for training and testing the models. The dataset consists of 2225 articles, each categorized under one of 5 categories: business, entertainment, politics, sport or tech. The data is divided into two sets: a training set with 1,490 articles and a test set with 735 articles."
   ]
  },
  {
   "cell_type": "code",
   "execution_count": 1,
   "id": "ba88b22e",
   "metadata": {},
   "outputs": [],
   "source": [
    "import pandas as pd\n",
    "import numpy as np\n",
    "import matplotlib.pyplot as plt \n",
    "\n",
    "import spacy\n",
    "import en_core_web_sm\n",
    "from string import punctuation\n",
    "import re  \n",
    "from nltk.tokenize import word_tokenize\n",
    "from nltk.stem import WordNetLemmatizer \n",
    "from nltk.corpus import stopwords \n",
    "from nltk.corpus import wordnet as wn \n",
    "from nltk import pos_tag\n",
    "from collections import defaultdict\n",
    "\n",
    "from sklearn.preprocessing import LabelEncoder\n",
    "from sklearn.feature_extraction.text import TfidfVectorizer\n",
    "from sklearn.feature_extraction.text import TfidfTransformer \n",
    "\n",
    "from sklearn.model_selection import train_test_split\n",
    "from sklearn.metrics import accuracy_score\n",
    "from sklearn.model_selection import cross_val_score\n",
    "from sklearn.metrics import confusion_matrix, classification_report\n",
    "from sklearn import metrics\n",
    "from sklearn.model_selection import ParameterGrid\n",
    "\n",
    "from sklearn.decomposition import NMF\n",
    "from sklearn.naive_bayes import MultinomialNB\n",
    "from sklearn.svm import LinearSVC\n",
    "from sklearn.svm import SVC\n",
    "from sklearn.linear_model import LogisticRegression\n",
    "from sklearn.ensemble import RandomForestClassifier, GradientBoostingClassifier\n"
   ]
  },
  {
   "cell_type": "code",
   "execution_count": 3,
   "id": "95352cbd",
   "metadata": {},
   "outputs": [],
   "source": [
    "# Load the BBC News dataset\n",
    "train_set = pd.read_csv(\"BBC News Train.csv\")\n",
    "test_set = pd.read_csv(\"BBC News Test.csv\")\n",
    "\n",
    "y_true = pd.read_csv(\"BBC News Sample Solution.csv\")"
   ]
  },
  {
   "cell_type": "markdown",
   "id": "5ff77fc7",
   "metadata": {},
   "source": [
    "# Exploratory Data Analysis "
   ]
  },
  {
   "cell_type": "markdown",
   "id": "0ecd0a46",
   "metadata": {},
   "source": [
    "The dataset used for text classification is not evenly distributed across the five categories: Sports, Business, Technology, and two additional categories. Here's a brief overview of the distribution:\n",
    "\n",
    "- Sports has the largest number of articles.\n",
    "- Business follows as the second most frequent category.\n",
    "- Technology has the lowest number of articles among the categories.\n",
    "\n",
    "While the data is not equally distributed, the differences in frequencies across the categories do not appear to be too extreme. This moderate imbalance is important to consider as it may affect the performance of classification models and may necessitate techniques to address class imbalance during training.\n",
    "\n",
    "The data also contains duplicated samples. The duplicates will be removed so that they do not bias performance of the model. \n"
   ]
  },
  {
   "cell_type": "code",
   "execution_count": 4,
   "id": "fd285f79",
   "metadata": {},
   "outputs": [
    {
     "data": {
      "text/html": [
       "<div>\n",
       "<style scoped>\n",
       "    .dataframe tbody tr th:only-of-type {\n",
       "        vertical-align: middle;\n",
       "    }\n",
       "\n",
       "    .dataframe tbody tr th {\n",
       "        vertical-align: top;\n",
       "    }\n",
       "\n",
       "    .dataframe thead th {\n",
       "        text-align: right;\n",
       "    }\n",
       "</style>\n",
       "<table border=\"1\" class=\"dataframe\">\n",
       "  <thead>\n",
       "    <tr style=\"text-align: right;\">\n",
       "      <th></th>\n",
       "      <th>ArticleId</th>\n",
       "      <th>Text</th>\n",
       "      <th>Category</th>\n",
       "    </tr>\n",
       "  </thead>\n",
       "  <tbody>\n",
       "    <tr>\n",
       "      <th>0</th>\n",
       "      <td>1833</td>\n",
       "      <td>worldcom ex-boss launches defence lawyers defe...</td>\n",
       "      <td>business</td>\n",
       "    </tr>\n",
       "    <tr>\n",
       "      <th>1</th>\n",
       "      <td>154</td>\n",
       "      <td>german business confidence slides german busin...</td>\n",
       "      <td>business</td>\n",
       "    </tr>\n",
       "    <tr>\n",
       "      <th>2</th>\n",
       "      <td>1101</td>\n",
       "      <td>bbc poll indicates economic gloom citizens in ...</td>\n",
       "      <td>business</td>\n",
       "    </tr>\n",
       "    <tr>\n",
       "      <th>3</th>\n",
       "      <td>1976</td>\n",
       "      <td>lifestyle  governs mobile choice  faster  bett...</td>\n",
       "      <td>tech</td>\n",
       "    </tr>\n",
       "    <tr>\n",
       "      <th>4</th>\n",
       "      <td>917</td>\n",
       "      <td>enron bosses in $168m payout eighteen former e...</td>\n",
       "      <td>business</td>\n",
       "    </tr>\n",
       "  </tbody>\n",
       "</table>\n",
       "</div>"
      ],
      "text/plain": [
       "   ArticleId                                               Text  Category\n",
       "0       1833  worldcom ex-boss launches defence lawyers defe...  business\n",
       "1        154  german business confidence slides german busin...  business\n",
       "2       1101  bbc poll indicates economic gloom citizens in ...  business\n",
       "3       1976  lifestyle  governs mobile choice  faster  bett...      tech\n",
       "4        917  enron bosses in $168m payout eighteen former e...  business"
      ]
     },
     "execution_count": 4,
     "metadata": {},
     "output_type": "execute_result"
    }
   ],
   "source": [
    "train_set.head()"
   ]
  },
  {
   "cell_type": "code",
   "execution_count": 5,
   "id": "df5d0ea3",
   "metadata": {},
   "outputs": [
    {
     "data": {
      "text/html": [
       "<div>\n",
       "<style scoped>\n",
       "    .dataframe tbody tr th:only-of-type {\n",
       "        vertical-align: middle;\n",
       "    }\n",
       "\n",
       "    .dataframe tbody tr th {\n",
       "        vertical-align: top;\n",
       "    }\n",
       "\n",
       "    .dataframe thead th {\n",
       "        text-align: right;\n",
       "    }\n",
       "</style>\n",
       "<table border=\"1\" class=\"dataframe\">\n",
       "  <thead>\n",
       "    <tr style=\"text-align: right;\">\n",
       "      <th></th>\n",
       "      <th>ArticleId</th>\n",
       "      <th>Text</th>\n",
       "    </tr>\n",
       "  </thead>\n",
       "  <tbody>\n",
       "    <tr>\n",
       "      <th>0</th>\n",
       "      <td>1018</td>\n",
       "      <td>qpr keeper day heads for preston queens park r...</td>\n",
       "    </tr>\n",
       "    <tr>\n",
       "      <th>1</th>\n",
       "      <td>1319</td>\n",
       "      <td>software watching while you work software that...</td>\n",
       "    </tr>\n",
       "    <tr>\n",
       "      <th>2</th>\n",
       "      <td>1138</td>\n",
       "      <td>d arcy injury adds to ireland woe gordon d arc...</td>\n",
       "    </tr>\n",
       "    <tr>\n",
       "      <th>3</th>\n",
       "      <td>459</td>\n",
       "      <td>india s reliance family feud heats up the ongo...</td>\n",
       "    </tr>\n",
       "    <tr>\n",
       "      <th>4</th>\n",
       "      <td>1020</td>\n",
       "      <td>boro suffer morrison injury blow middlesbrough...</td>\n",
       "    </tr>\n",
       "  </tbody>\n",
       "</table>\n",
       "</div>"
      ],
      "text/plain": [
       "   ArticleId                                               Text\n",
       "0       1018  qpr keeper day heads for preston queens park r...\n",
       "1       1319  software watching while you work software that...\n",
       "2       1138  d arcy injury adds to ireland woe gordon d arc...\n",
       "3        459  india s reliance family feud heats up the ongo...\n",
       "4       1020  boro suffer morrison injury blow middlesbrough..."
      ]
     },
     "execution_count": 5,
     "metadata": {},
     "output_type": "execute_result"
    }
   ],
   "source": [
    "test_set.head()"
   ]
  },
  {
   "cell_type": "code",
   "execution_count": 6,
   "id": "d638bf34",
   "metadata": {},
   "outputs": [
    {
     "name": "stdout",
     "output_type": "stream",
     "text": [
      "<class 'pandas.core.frame.DataFrame'>\n",
      "RangeIndex: 1490 entries, 0 to 1489\n",
      "Data columns (total 3 columns):\n",
      " #   Column     Non-Null Count  Dtype \n",
      "---  ------     --------------  ----- \n",
      " 0   ArticleId  1490 non-null   int64 \n",
      " 1   Text       1490 non-null   object\n",
      " 2   Category   1490 non-null   object\n",
      "dtypes: int64(1), object(2)\n",
      "memory usage: 35.0+ KB\n"
     ]
    }
   ],
   "source": [
    "train_set.info()"
   ]
  },
  {
   "cell_type": "code",
   "execution_count": 7,
   "id": "7571f8af",
   "metadata": {},
   "outputs": [
    {
     "data": {
      "text/plain": [
       "ArticleId    1490\n",
       "Text         1440\n",
       "Category        5\n",
       "dtype: int64"
      ]
     },
     "execution_count": 7,
     "metadata": {},
     "output_type": "execute_result"
    }
   ],
   "source": [
    "train_set.nunique()"
   ]
  },
  {
   "cell_type": "code",
   "execution_count": 8,
   "id": "c7ab33d9",
   "metadata": {},
   "outputs": [
    {
     "data": {
      "text/html": [
       "<div>\n",
       "<style scoped>\n",
       "    .dataframe tbody tr th:only-of-type {\n",
       "        vertical-align: middle;\n",
       "    }\n",
       "\n",
       "    .dataframe tbody tr th {\n",
       "        vertical-align: top;\n",
       "    }\n",
       "\n",
       "    .dataframe thead th {\n",
       "        text-align: right;\n",
       "    }\n",
       "</style>\n",
       "<table border=\"1\" class=\"dataframe\">\n",
       "  <thead>\n",
       "    <tr style=\"text-align: right;\">\n",
       "      <th></th>\n",
       "      <th>ArticleId</th>\n",
       "      <th>Text</th>\n",
       "      <th>Category</th>\n",
       "    </tr>\n",
       "  </thead>\n",
       "  <tbody>\n",
       "    <tr>\n",
       "      <th>494</th>\n",
       "      <td>1326</td>\n",
       "      <td>ask jeeves joins web log market ask jeeves has...</td>\n",
       "      <td>tech</td>\n",
       "    </tr>\n",
       "    <tr>\n",
       "      <th>228</th>\n",
       "      <td>1098</td>\n",
       "      <td>ask jeeves joins web log market ask jeeves has...</td>\n",
       "      <td>tech</td>\n",
       "    </tr>\n",
       "    <tr>\n",
       "      <th>1430</th>\n",
       "      <td>1042</td>\n",
       "      <td>aviator  creator  in oscars snub the man who s...</td>\n",
       "      <td>entertainment</td>\n",
       "    </tr>\n",
       "    <tr>\n",
       "      <th>695</th>\n",
       "      <td>374</td>\n",
       "      <td>aviator  creator  in oscars snub the man who s...</td>\n",
       "      <td>entertainment</td>\n",
       "    </tr>\n",
       "    <tr>\n",
       "      <th>443</th>\n",
       "      <td>1847</td>\n",
       "      <td>blind student  hears in colour  a blind studen...</td>\n",
       "      <td>tech</td>\n",
       "    </tr>\n",
       "    <tr>\n",
       "      <th>1317</th>\n",
       "      <td>145</td>\n",
       "      <td>blind student  hears in colour  a blind studen...</td>\n",
       "      <td>tech</td>\n",
       "    </tr>\n",
       "    <tr>\n",
       "      <th>406</th>\n",
       "      <td>1218</td>\n",
       "      <td>bortolami predicts dour contest italy skipper ...</td>\n",
       "      <td>sport</td>\n",
       "    </tr>\n",
       "    <tr>\n",
       "      <th>637</th>\n",
       "      <td>427</td>\n",
       "      <td>bortolami predicts dour contest italy skipper ...</td>\n",
       "      <td>sport</td>\n",
       "    </tr>\n",
       "    <tr>\n",
       "      <th>1455</th>\n",
       "      <td>1600</td>\n",
       "      <td>britons fed up with net service a survey condu...</td>\n",
       "      <td>tech</td>\n",
       "    </tr>\n",
       "    <tr>\n",
       "      <th>1123</th>\n",
       "      <td>478</td>\n",
       "      <td>britons fed up with net service a survey condu...</td>\n",
       "      <td>tech</td>\n",
       "    </tr>\n",
       "  </tbody>\n",
       "</table>\n",
       "</div>"
      ],
      "text/plain": [
       "      ArticleId  ...       Category\n",
       "494        1326  ...           tech\n",
       "228        1098  ...           tech\n",
       "1430       1042  ...  entertainment\n",
       "695         374  ...  entertainment\n",
       "443        1847  ...           tech\n",
       "1317        145  ...           tech\n",
       "406        1218  ...          sport\n",
       "637         427  ...          sport\n",
       "1455       1600  ...           tech\n",
       "1123        478  ...           tech\n",
       "\n",
       "[10 rows x 3 columns]"
      ]
     },
     "execution_count": 8,
     "metadata": {},
     "output_type": "execute_result"
    }
   ],
   "source": [
    "duplicates = train_set[train_set.duplicated(subset = ['Text'], keep = False)]\n",
    "df_sorted = duplicates.sort_values(by='Text')\n",
    "df_sorted.head(10)"
   ]
  },
  {
   "cell_type": "code",
   "execution_count": 9,
   "id": "900a065d",
   "metadata": {},
   "outputs": [],
   "source": [
    "# There are 50 articles that are duplicated. Need to remove them \n",
    "\n",
    "train_set_cleaned = train_set.drop_duplicates(subset=['Text', 'Category'])"
   ]
  },
  {
   "cell_type": "code",
   "execution_count": 10,
   "id": "31a8f6ec",
   "metadata": {},
   "outputs": [
    {
     "data": {
      "text/html": [
       "<div>\n",
       "<style scoped>\n",
       "    .dataframe tbody tr th:only-of-type {\n",
       "        vertical-align: middle;\n",
       "    }\n",
       "\n",
       "    .dataframe tbody tr th {\n",
       "        vertical-align: top;\n",
       "    }\n",
       "\n",
       "    .dataframe thead th {\n",
       "        text-align: right;\n",
       "    }\n",
       "</style>\n",
       "<table border=\"1\" class=\"dataframe\">\n",
       "  <thead>\n",
       "    <tr style=\"text-align: right;\">\n",
       "      <th></th>\n",
       "      <th>Counts</th>\n",
       "      <th>Category</th>\n",
       "      <th>perc</th>\n",
       "    </tr>\n",
       "  </thead>\n",
       "  <tbody>\n",
       "    <tr>\n",
       "      <th>0</th>\n",
       "      <td>342</td>\n",
       "      <td>sport</td>\n",
       "      <td>23.75</td>\n",
       "    </tr>\n",
       "    <tr>\n",
       "      <th>1</th>\n",
       "      <td>335</td>\n",
       "      <td>business</td>\n",
       "      <td>23.26</td>\n",
       "    </tr>\n",
       "    <tr>\n",
       "      <th>2</th>\n",
       "      <td>266</td>\n",
       "      <td>politics</td>\n",
       "      <td>18.47</td>\n",
       "    </tr>\n",
       "    <tr>\n",
       "      <th>3</th>\n",
       "      <td>263</td>\n",
       "      <td>entertainment</td>\n",
       "      <td>18.26</td>\n",
       "    </tr>\n",
       "    <tr>\n",
       "      <th>4</th>\n",
       "      <td>234</td>\n",
       "      <td>tech</td>\n",
       "      <td>16.25</td>\n",
       "    </tr>\n",
       "  </tbody>\n",
       "</table>\n",
       "</div>"
      ],
      "text/plain": [
       "   Counts       Category   perc\n",
       "0     342          sport  23.75\n",
       "1     335       business  23.26\n",
       "2     266       politics  18.47\n",
       "3     263  entertainment  18.26\n",
       "4     234           tech  16.25"
      ]
     },
     "execution_count": 10,
     "metadata": {},
     "output_type": "execute_result"
    }
   ],
   "source": [
    "df = pd.DataFrame(train_set_cleaned.Category.value_counts())\n",
    "df = df.rename(columns = {\"Category\": \"Counts\"})\n",
    "df['Category'] = df.index \n",
    "df.reset_index(drop=True, inplace=True)\n",
    "df['perc'] = round(100*df['Counts']/df['Counts'].sum(), 2)\n",
    "\n",
    "df"
   ]
  },
  {
   "cell_type": "code",
   "execution_count": 11,
   "id": "df1bf214",
   "metadata": {},
   "outputs": [
    {
     "data": {
      "text/plain": [
       "(array([335.,   0., 234.,   0.,   0., 266.,   0., 342.,   0., 263.]),\n",
       " array([0. , 0.4, 0.8, 1.2, 1.6, 2. , 2.4, 2.8, 3.2, 3.6, 4. ]),\n",
       " <BarContainer object of 10 artists>)"
      ]
     },
     "execution_count": 11,
     "metadata": {},
     "output_type": "execute_result"
    },
    {
     "data": {
      "image/png": "[encoded data removed]",
      "text/plain": [
       "<Figure size 432x288 with 1 Axes>"
      ]
     },
     "metadata": {},
     "output_type": "display_data"
    }
   ],
   "source": [
    "plt.hist(train_set_cleaned.Category)"
   ]
  },
  {
   "cell_type": "code",
   "execution_count": 12,
   "id": "67ab0eea",
   "metadata": {},
   "outputs": [
    {
     "data": {
      "text/plain": [
       "(0.0, 25.0)"
      ]
     },
     "execution_count": 12,
     "metadata": {},
     "output_type": "execute_result"
    },
    {
     "data": {
      "image/png": "[encoded data removed]",
      "text/plain": [
       "<Figure size 432x288 with 1 Axes>"
      ]
     },
     "metadata": {},
     "output_type": "display_data"
    }
   ],
   "source": [
    "plt.plot(df['Category'],df['perc'], color='green', linestyle='dashed', marker='o',\n",
    "     markerfacecolor='blue', markersize=12)\n",
    "\n",
    "plt.ylim(0, 25)\n",
    "\n"
   ]
  },
  {
   "cell_type": "markdown",
   "id": "c08b10d1",
   "metadata": {},
   "source": [
    "# Text Processing "
   ]
  },
  {
   "cell_type": "markdown",
   "id": "440c6ec9",
   "metadata": {},
   "source": [
    "Text classification can be done using natural language processing (NLP) and various supervised learning algorithms. NLP enables computers to understand and interpret human language, making it possible to process vast amounts of text data in meaningful ways. Machine learning, specifically neural networks, have significantly enhances the ability of computers to understand the context of complex human language. \n",
    "\n",
    "Before inputting text data into models, it must be transformed into a structured format that models can understand.This preprocessing involves several crucial steps: \n",
    "\n",
    "1. Removing Blank Rows: Ensuring that the dataset is clean and free from empty entries.\n",
    "2. Converting Text to Lowercase: Standardizing text by converting all characters to lowercase.\n",
    "3. Word Tokenization: Breaking down a stream of text into meaningful elements called tokens.\n",
    "4. Removing Stop Words: Eliminating common words (like \"and,\" \"the,\" \"is\") that do not add significant meaning to the text.\n",
    "5. Removing Non-Alphabetic Text: Filtering out non-alphabetic characters to focus on meaningful content.\n",
    "6. Word Lemmatization: Reducing words to their base or root form, with lemmatization distinguishing word meanings based on parts of speech, unlike stemming, which lacks this contextual understanding.\n",
    "\n",
    "\n",
    "In our topic modeling approach, we will focus on processing the text data by retaining only the \"nouns.\" This method is based on the assumption that nouns carry substantial information that can effectively help in inferring the underlying topics within the documents. By filtering out other parts of speech and focusing on nouns, we aim to simplify the text representation while preserving the essential content necessary for topic modeling."
   ]
  },
  {
   "cell_type": "code",
   "execution_count": 13,
   "id": "5d65f424",
   "metadata": {},
   "outputs": [],
   "source": [
    "df1 = train_set_cleaned.copy()"
   ]
  },
  {
   "cell_type": "code",
   "execution_count": 14,
   "id": "5a85d659",
   "metadata": {},
   "outputs": [],
   "source": [
    "\n",
    "nlp = en_core_web_sm.load()\n",
    "\n",
    "def extract_nouns(texts, batch_size=500, n_process=4):\n",
    "    output = []\n",
    "    # Use nlp.pipe with batching and multiple processes\n",
    "    for doc in nlp.pipe(texts, batch_size=batch_size, n_process=n_process):\n",
    "        nouns = \" \".join(\n",
    "            token.lemma_ for token in doc \n",
    "            if token.pos_ == 'NOUN' and not token.is_stop and not token.is_digit and token.text not in punctuation and len(token.text) > 1\n",
    "        )\n",
    "        \n",
    "        if len(nouns) > 2:\n",
    "            output.append(nouns)\n",
    "            \n",
    "    return output\n",
    "        \n",
    "\n"
   ]
  },
  {
   "cell_type": "code",
   "execution_count": 15,
   "id": "432c3032",
   "metadata": {},
   "outputs": [
    {
     "data": {
      "text/html": [
       "<div>\n",
       "<style scoped>\n",
       "    .dataframe tbody tr th:only-of-type {\n",
       "        vertical-align: middle;\n",
       "    }\n",
       "\n",
       "    .dataframe tbody tr th {\n",
       "        vertical-align: top;\n",
       "    }\n",
       "\n",
       "    .dataframe thead th {\n",
       "        text-align: right;\n",
       "    }\n",
       "</style>\n",
       "<table border=\"1\" class=\"dataframe\">\n",
       "  <thead>\n",
       "    <tr style=\"text-align: right;\">\n",
       "      <th></th>\n",
       "      <th>ArticleId</th>\n",
       "      <th>Text</th>\n",
       "      <th>Category</th>\n",
       "      <th>Text_Nouns_only</th>\n",
       "    </tr>\n",
       "  </thead>\n",
       "  <tbody>\n",
       "    <tr>\n",
       "      <th>0</th>\n",
       "      <td>1833</td>\n",
       "      <td>worldcom ex-boss launches defence lawyers defe...</td>\n",
       "      <td>business</td>\n",
       "      <td>boss launch defence lawyer ebber battery fraud...</td>\n",
       "    </tr>\n",
       "    <tr>\n",
       "      <th>1</th>\n",
       "      <td>154</td>\n",
       "      <td>german business confidence slides german busin...</td>\n",
       "      <td>business</td>\n",
       "      <td>business confidence business confidence hope r...</td>\n",
       "    </tr>\n",
       "    <tr>\n",
       "      <th>2</th>\n",
       "      <td>1101</td>\n",
       "      <td>bbc poll indicates economic gloom citizens in ...</td>\n",
       "      <td>business</td>\n",
       "      <td>gloom citizen majority nation service poll wor...</td>\n",
       "    </tr>\n",
       "    <tr>\n",
       "      <th>3</th>\n",
       "      <td>1976</td>\n",
       "      <td>lifestyle  governs mobile choice  faster  bett...</td>\n",
       "      <td>tech</td>\n",
       "      <td>lifestyle govern choice hardware phone firm ha...</td>\n",
       "    </tr>\n",
       "    <tr>\n",
       "      <th>4</th>\n",
       "      <td>917</td>\n",
       "      <td>enron bosses in $168m payout eighteen former e...</td>\n",
       "      <td>business</td>\n",
       "      <td>enron boss payout enron director settlement de...</td>\n",
       "    </tr>\n",
       "  </tbody>\n",
       "</table>\n",
       "</div>"
      ],
      "text/plain": [
       "   ArticleId  ...                                    Text_Nouns_only\n",
       "0       1833  ...  boss launch defence lawyer ebber battery fraud...\n",
       "1        154  ...  business confidence business confidence hope r...\n",
       "2       1101  ...  gloom citizen majority nation service poll wor...\n",
       "3       1976  ...  lifestyle govern choice hardware phone firm ha...\n",
       "4        917  ...  enron boss payout enron director settlement de...\n",
       "\n",
       "[5 rows x 4 columns]"
      ]
     },
     "execution_count": 15,
     "metadata": {},
     "output_type": "execute_result"
    }
   ],
   "source": [
    "# Process training data\n",
    "df1['Text_Nouns_only'] = extract_nouns(df1['Text'])\n",
    "\n",
    "# Process test data \n",
    "test_set['Text_Nouns_only'] = extract_nouns(test_set['Text'])\n",
    "\n",
    "df1.head()"
   ]
  },
  {
   "cell_type": "code",
   "execution_count": 16,
   "id": "855d7abd",
   "metadata": {},
   "outputs": [],
   "source": [
    "from collections import Counter\n",
    "\n",
    "# Tokenize the text\n",
    "df1['tokenized_text'] = df1['Text_Nouns_only'].apply(lambda x: x.split())\n",
    "\n",
    "# Flatten the list of tokens\n",
    "all_words = [word for tokens in df1['tokenized_text'] for word in tokens]\n",
    "\n",
    "# Get word frequency\n",
    "word_freq = Counter(all_words)\n",
    "\n",
    "# Convert to DataFrame for better readability\n",
    "word_freq_df = pd.DataFrame(word_freq.items(), columns=['Word', 'Frequency'])\n",
    "\n",
    "# Sort by frequency\n",
    "word_freq_df = word_freq_df.sort_values(by='Frequency', ascending=False)\n",
    "\n",
    "\n",
    "# Count article length \n",
    "article_len = [len(article) for article in df1['tokenized_text']]\n",
    "\n",
    "df1['article_len'] = article_len\n"
   ]
  },
  {
   "cell_type": "markdown",
   "id": "a1484ebe",
   "metadata": {},
   "source": [
    "## Exploratory Text Analysis "
   ]
  },
  {
   "cell_type": "markdown",
   "id": "f68c0928",
   "metadata": {},
   "source": [
    "Article Length: \n",
    "- Average Number of Extracted Nouns per Article: 90 words.\n",
    "- Distribution of Article Lengths: 75% of the articles have fewer than 112 words.\n",
    "- Largest Article: Contains 720 nouns.\n",
    "\n",
    "Word Reuse\n",
    "- Average Frequency of Word Reuse: Each word is reused approximately 13 times on average.\n",
    "- Distribution of Word Reuse: 75% of the extracted nouns are repeated fewer than 7 times.\n",
    "- Top 20 words are occur more than 450 times across all articles \n",
    "\n",
    "Category Insights\n",
    "- Sports Articles: Tend to have fewer extracted nouns compared to other categories.\n",
    "- Technology Articles: Use the largest number of extracted nouns on average."
   ]
  },
  {
   "cell_type": "code",
   "execution_count": 17,
   "id": "8848dce0",
   "metadata": {},
   "outputs": [
    {
     "data": {
      "image/png": "[encoded data removed]",
      "text/plain": [
       "<Figure size 864x432 with 1 Axes>"
      ]
     },
     "metadata": {},
     "output_type": "display_data"
    }
   ],
   "source": [
    "# Set the figure size\n",
    "plt.figure(figsize=(12, 6))\n",
    "\n",
    "# Loop through each category to plot histograms\n",
    "categories = df1['Category'].unique()\n",
    "for category in categories:\n",
    "    subset = df1[df1['Category'] == category]\n",
    "    plt.hist(subset['article_len'], bins=30, alpha=0.5, label=category)\n",
    "\n",
    "# Add labels and title\n",
    "plt.xlabel('Article Length')\n",
    "plt.ylabel('Frequency')\n",
    "plt.title('Distribution of Article Lengths by Category')\n",
    "plt.legend(title='Category')\n",
    "\n",
    "# Show the plot\n",
    "plt.show()"
   ]
  },
  {
   "cell_type": "code",
   "execution_count": 18,
   "id": "d7d1d013",
   "metadata": {},
   "outputs": [
    {
     "name": "stdout",
     "output_type": "stream",
     "text": [
      "        Category  Average_Article_Length\n",
      "0       business               83.411940\n",
      "1  entertainment               81.330798\n",
      "2       politics              102.774436\n",
      "3          sport               68.470760\n",
      "4           tech              130.094017\n"
     ]
    }
   ],
   "source": [
    "average_lengths = df1.groupby('Category')['article_len'].mean().reset_index()\n",
    "\n",
    "# Rename the columns for clarity\n",
    "average_lengths.columns = ['Category', 'Average_Article_Length']\n",
    "\n",
    "# Print the result\n",
    "print(average_lengths)"
   ]
  },
  {
   "cell_type": "code",
   "execution_count": 19,
   "id": "4cf55f50",
   "metadata": {},
   "outputs": [
    {
     "data": {
      "text/plain": [
       "count    1440.000000\n",
       "mean       90.645833\n",
       "std        50.727175\n",
       "min        16.000000\n",
       "25%        57.750000\n",
       "50%        80.000000\n",
       "75%       112.000000\n",
       "max       720.000000\n",
       "Name: article_len, dtype: float64"
      ]
     },
     "execution_count": 19,
     "metadata": {},
     "output_type": "execute_result"
    }
   ],
   "source": [
    "df1['article_len'].describe()"
   ]
  },
  {
   "cell_type": "code",
   "execution_count": 20,
   "id": "51acc5f4",
   "metadata": {},
   "outputs": [
    {
     "data": {
      "text/plain": [
       "Text(0.5, 1.0, 'Top 20 words')"
      ]
     },
     "execution_count": 20,
     "metadata": {},
     "output_type": "execute_result"
    },
    {
     "data": {
      "image/png": "[encoded data removed]",
      "text/plain": [
       "<Figure size 1296x432 with 1 Axes>"
      ]
     },
     "metadata": {},
     "output_type": "display_data"
    }
   ],
   "source": [
    "top_words = word_freq_df.iloc[:20]  # appear more than 500 times\n",
    "\n",
    "plt.figure(figsize=(18, 6))\n",
    "plt.bar(top_words['Word'], top_words['Frequency'], color='skyblue')\n",
    "plt.title(\"Top 20 words\")\n"
   ]
  },
  {
   "cell_type": "code",
   "execution_count": 21,
   "id": "6f3d0dd4",
   "metadata": {},
   "outputs": [
    {
     "data": {
      "text/html": [
       "<div>\n",
       "<style scoped>\n",
       "    .dataframe tbody tr th:only-of-type {\n",
       "        vertical-align: middle;\n",
       "    }\n",
       "\n",
       "    .dataframe tbody tr th {\n",
       "        vertical-align: top;\n",
       "    }\n",
       "\n",
       "    .dataframe thead th {\n",
       "        text-align: right;\n",
       "    }\n",
       "</style>\n",
       "<table border=\"1\" class=\"dataframe\">\n",
       "  <thead>\n",
       "    <tr style=\"text-align: right;\">\n",
       "      <th></th>\n",
       "      <th>Frequency</th>\n",
       "    </tr>\n",
       "  </thead>\n",
       "  <tbody>\n",
       "    <tr>\n",
       "      <th>count</th>\n",
       "      <td>9912.000000</td>\n",
       "    </tr>\n",
       "    <tr>\n",
       "      <th>mean</th>\n",
       "      <td>13.168886</td>\n",
       "    </tr>\n",
       "    <tr>\n",
       "      <th>std</th>\n",
       "      <td>48.538498</td>\n",
       "    </tr>\n",
       "    <tr>\n",
       "      <th>min</th>\n",
       "      <td>1.000000</td>\n",
       "    </tr>\n",
       "    <tr>\n",
       "      <th>25%</th>\n",
       "      <td>1.000000</td>\n",
       "    </tr>\n",
       "    <tr>\n",
       "      <th>50%</th>\n",
       "      <td>2.000000</td>\n",
       "    </tr>\n",
       "    <tr>\n",
       "      <th>75%</th>\n",
       "      <td>7.000000</td>\n",
       "    </tr>\n",
       "    <tr>\n",
       "      <th>max</th>\n",
       "      <td>2107.000000</td>\n",
       "    </tr>\n",
       "  </tbody>\n",
       "</table>\n",
       "</div>"
      ],
      "text/plain": [
       "         Frequency\n",
       "count  9912.000000\n",
       "mean     13.168886\n",
       "std      48.538498\n",
       "min       1.000000\n",
       "25%       1.000000\n",
       "50%       2.000000\n",
       "75%       7.000000\n",
       "max    2107.000000"
      ]
     },
     "execution_count": 21,
     "metadata": {},
     "output_type": "execute_result"
    }
   ],
   "source": [
    "word_freq_df.describe()"
   ]
  },
  {
   "cell_type": "markdown",
   "id": "30912c2e",
   "metadata": {},
   "source": [
    "# Text Vectorization: Converting Text to Numerical Features"
   ]
  },
  {
   "cell_type": "markdown",
   "id": "153db472",
   "metadata": {},
   "source": [
    "To enable computers to process text data, we must convert it into numerical feature vectors, as computers only understand numbers. The process of encoding text into numerical features is known as word vectorization. The method chosen for encoding text data can significantly impact the performance and outcome of machine learning models. Selecting the appropriate word vectorization method is crucial for accurately capturing the nuances of text data and improving the performance of machine learning models.\n",
    "\n",
    "There are many methods to convert text data to vectors which the model can understand. They include: \n",
    "\n",
    "Methods for Text Vectorization:\n",
    "\n",
    "1. Frequency-Based Word Vectors:\n",
    "    These methods represent a document by the frequency or presence of words. Common techniques include:\n",
    "\n",
    "    - One-Hot Encoding: Represents each word as a unique binary vector where only the corresponding word's position is marked as 1, and all others are 0.\n",
    "    - Bag of Words (BoW): Captures the frequency of each word in a document, ignoring the order of words.\n",
    "    - Term Frequency-Inverse Document Frequency (TF-IDF): Measures the importance of a word in a document relative to its frequency across all documents. It helps highlight words that are significant in the context of a single document compared to the entire corpus. \n",
    "\n",
    "\n",
    "\n",
    "2. Prediction-Based Word Vectors:\n",
    "    These methods capture both syntactic (structure) and semantic (meaning) relationships between words. They use neural network-based language models to learn these relationships. Known models for word embeddings include:\n",
    "\n",
    "    - Word2Vec: Learns word representations based on the context in which words appear, using either Continuous Bag of Words (CBOW) or Skip-gram techniques.\n",
    "    - GloVe (Global Vectors for Word Representation): Uses word co-occurrence statistics from a corpus to learn word vectors.\n",
    "    - BERT (Bidirectional Encoder Representations from Transformers): Provides contextual embeddings by considering the bidirectional context of words in a sentence.\n",
    "    - ELMo (Embeddings from Language Models): Generates embeddings by analyzing the context of words in both forward and backward directions within a sentence.\n"
   ]
  },
  {
   "cell_type": "markdown",
   "id": "58c90b38",
   "metadata": {},
   "source": [
    "## **Term Frequency - Inverse Document Frequency (TF-IDF)** \n",
    "\n",
    "Term Frequency-Inverse Document Frequency (TF-IDF)  is a commonly used technique for tranforming text into a feature vector matrix. TF-IDF effectively captures the significance of terms within individual documents and across the corpus.\n",
    "\n",
    "**Term frequencies (TF)**\n",
    "\n",
    "Term Frequency (TF) measures how often a word appears in a document relative to the total number of words in that document. It is calculated as:\n",
    "$$ \\text{Term Frequency (TF)} = \\frac{\\text{Number of times term appears in a document}}{\\text{Total number of terms in the document}} $$\n",
    "\n",
    "- Advantages: Provides insight into the frequency of terms within a document.\n",
    "- Disadvantages: Can give too much weight to frequently occurring words that might not be specific or informative.\n",
    "\n",
    "**Inverse document Frequency (IDF)** \n",
    "\n",
    "Inverse Document Frequency (IDF) adjusts the term frequencies by scaling down the weight of words that appear frequently across all documents. It helps highlight words that are more interesting or unique to a specific document. It is calculated as: \n",
    "$$ \\text{Inverse Document Frequency (IDF)} = \\frac{\\text{log(Total number of documents)}}{\\text{Number of documents using term}} $$\n",
    "\n",
    "- Advantages: Reduces the importance of common words that appear frequently across all documents, emphasizing more unique terms.\n",
    "\n",
    "**TF-IDF Calculation**\n",
    "\n",
    "The TF-IDF score is the product of TF and IDF, representing the importance of a term in a document relative to the entire corpus:\n",
    "$$ \\text{TF-IDF} = \\text{TF (term)} * {\\text{IDF(term)}} $$\n",
    "\n"
   ]
  },
  {
   "cell_type": "code",
   "execution_count": 22,
   "id": "394487f8",
   "metadata": {},
   "outputs": [],
   "source": [
    "# Convert the categorical variables into qualitative variables \n",
    "\n",
    "Encoder = LabelEncoder()\n",
    "labels = Encoder.fit_transform(df1['Category'])\n",
    "\n",
    "df1['category_id'] = labels"
   ]
  },
  {
   "cell_type": "code",
   "execution_count": 23,
   "id": "93e5155a",
   "metadata": {},
   "outputs": [],
   "source": [
    "# exclude terms that appear in less than 2 documents (min_df) or more than 95% (max_df) of the documents.\n",
    "\n",
    "tfidf = TfidfVectorizer(sublinear_tf=True, min_df=5, max_df=0.95,\n",
    "                        ngram_range=(1, 2),\n",
    "                        stop_words='english')\n",
    "\n",
    "\n",
    "# Apply TF-IDF vectorizer to training set \n",
    "features = tfidf.fit_transform(df1.Text_Nouns_only)\n",
    "\n",
    "# Apply TF-IDF vectorizer to test set\n",
    "tfidf_test = tfidf.transform(test_set.Text_Nouns_only)"
   ]
  },
  {
   "cell_type": "code",
   "execution_count": 24,
   "id": "9fedf268",
   "metadata": {},
   "outputs": [],
   "source": [
    "category_id_df = df1[['Category', 'category_id']].drop_duplicates()\n",
    "\n",
    "# Dictionaries for future use\n",
    "category_to_id = dict(category_id_df.values)\n",
    "id_to_category = dict(category_id_df[['category_id', 'Category']].values)"
   ]
  },
  {
   "cell_type": "code",
   "execution_count": 25,
   "id": "5bc64c8d",
   "metadata": {},
   "outputs": [
    {
     "name": "stdout",
     "output_type": "stream",
     "text": [
      "\n",
      "==> business:\n",
      "  * Most Correlated Unigrams are: economy, oil, profit, growth, share\n",
      "  * Most Correlated Bigrams are: growth year, profit year, consumer spending, oil price, stock market\n",
      "\n",
      "==> entertainment:\n",
      "  * Most Correlated Unigrams are: oscar, singer, actor, award, film\n",
      "  * Most Correlated Bigrams are: film year, dollar baby, film maker, film film, film festival\n",
      "\n",
      "==> politics:\n",
      "  * Most Correlated Unigrams are: minister, tory, party, labour, election\n",
      "  * Most Correlated Bigrams are: labour election, home secretary, council tax, election campaign, lib dem\n",
      "\n",
      "==> sport:\n",
      "  * Most Correlated Unigrams are: season, win, injury, champion, match\n",
      "  * Most Correlated Bigrams are: drug test, world cup, team mate, champion league, world number\n",
      "\n",
      "==> tech:\n",
      "  * Most Correlated Unigrams are: pc, technology, computer, software, user\n",
      "  * Most Correlated Bigrams are: medium player, consumer electronic, mail message, music player, search engine\n"
     ]
    }
   ],
   "source": [
    "from sklearn.feature_selection import chi2 \n",
    "\n",
    "\n",
    "N = 5\n",
    "for Category, category_id in sorted(category_to_id.items()):\n",
    "    # Chi-squared test\n",
    "    features_chi2 = chi2(features, labels == category_id)\n",
    "    \n",
    "    # Get indices of the features sorted by chi2 score\n",
    "    indices = np.argsort(features_chi2[0])\n",
    "    \n",
    "    # Get the feature names corresponding to these indices\n",
    "    feature_names = np.array(tfidf.get_feature_names_out())[indices]\n",
    "    \n",
    "    # Extract unigrams and bigrams\n",
    "    unigrams = [v for v in feature_names if len(v.split(' ')) == 1]\n",
    "    bigrams = [v for v in feature_names if len(v.split(' ')) == 2]\n",
    "    \n",
    "    print(f\"\\n==> {Category}:\")\n",
    "    print(f\"  * Most Correlated Unigrams are: {', '.join(unigrams[-N:])}\")\n",
    "    print(f\"  * Most Correlated Bigrams are: {', '.join(bigrams[-N:])}\")"
   ]
  },
  {
   "cell_type": "markdown",
   "id": "747bc6fc",
   "metadata": {},
   "source": [
    "# Fit NMF Model "
   ]
  },
  {
   "cell_type": "code",
   "execution_count": 26,
   "id": "cb04afb9",
   "metadata": {},
   "outputs": [],
   "source": [
    "\n",
    "n_topics = 5\n",
    "random_state = 42\n",
    "\n",
    "nmf = NMF(n_components=n_topics, random_state=random_state)\n",
    "\n",
    "W = nmf.fit_transform(features)\n",
    "H = nmf.components_\n",
    "\n",
    "\n",
    "feature_names = nmf.get_feature_names_out()\n",
    "tfidf_features = tfidf.get_feature_names_out()"
   ]
  },
  {
   "cell_type": "code",
   "execution_count": 27,
   "id": "bc7bbf60",
   "metadata": {},
   "outputs": [
    {
     "data": {
      "text/html": [
       "<div>\n",
       "<style scoped>\n",
       "    .dataframe tbody tr th:only-of-type {\n",
       "        vertical-align: middle;\n",
       "    }\n",
       "\n",
       "    .dataframe tbody tr th {\n",
       "        vertical-align: top;\n",
       "    }\n",
       "\n",
       "    .dataframe thead th {\n",
       "        text-align: right;\n",
       "    }\n",
       "</style>\n",
       "<table border=\"1\" class=\"dataframe\">\n",
       "  <thead>\n",
       "    <tr style=\"text-align: right;\">\n",
       "      <th></th>\n",
       "      <th>Top_Topic_Terms</th>\n",
       "    </tr>\n",
       "  </thead>\n",
       "  <tbody>\n",
       "    <tr>\n",
       "      <th>0</th>\n",
       "      <td>market company growth share firm economy year ...</td>\n",
       "    </tr>\n",
       "    <tr>\n",
       "      <th>1</th>\n",
       "      <td>game player match team time champion win injury</td>\n",
       "    </tr>\n",
       "    <tr>\n",
       "      <th>2</th>\n",
       "      <td>film award actor oscar star actress director m...</td>\n",
       "    </tr>\n",
       "    <tr>\n",
       "      <th>3</th>\n",
       "      <td>election party labour government minister tory...</td>\n",
       "    </tr>\n",
       "    <tr>\n",
       "      <th>4</th>\n",
       "      <td>people user technology phone service computer ...</td>\n",
       "    </tr>\n",
       "  </tbody>\n",
       "</table>\n",
       "</div>"
      ],
      "text/plain": [
       "                                     Top_Topic_Terms\n",
       "0  market company growth share firm economy year ...\n",
       "1   game player match team time champion win injury \n",
       "2  film award actor oscar star actress director m...\n",
       "3  election party labour government minister tory...\n",
       "4  people user technology phone service computer ..."
      ]
     },
     "execution_count": 27,
     "metadata": {},
     "output_type": "execute_result"
    }
   ],
   "source": [
    "def topic_table(n_top_words, feature_names, nmf):\n",
    "\n",
    "    topics = {}\n",
    "    for i, topic_vec in enumerate(nmf.components_):\n",
    "        topic_descr = ''\n",
    "        for fidx in topic_vec.argsort()[-1:-n_top_words-1:-1]:\n",
    "              topic_descr = topic_descr + feature_names[fidx] + \" \"\n",
    "        topics[i] = topic_descr\n",
    "    return pd.DataFrame({'Top_Topic_Terms': topics})\n",
    "\n",
    "\n",
    "# Label topics with top 5 terms\n",
    "topic_df = topic_table(8, tfidf.get_feature_names_out(), nmf)\n",
    "topic_df"
   ]
  },
  {
   "cell_type": "code",
   "execution_count": 28,
   "id": "71ba04d2",
   "metadata": {},
   "outputs": [
    {
     "data": {
      "text/html": [
       "<div>\n",
       "<style scoped>\n",
       "    .dataframe tbody tr th:only-of-type {\n",
       "        vertical-align: middle;\n",
       "    }\n",
       "\n",
       "    .dataframe tbody tr th {\n",
       "        vertical-align: top;\n",
       "    }\n",
       "\n",
       "    .dataframe thead th {\n",
       "        text-align: right;\n",
       "    }\n",
       "</style>\n",
       "<table border=\"1\" class=\"dataframe\">\n",
       "  <thead>\n",
       "    <tr style=\"text-align: right;\">\n",
       "      <th></th>\n",
       "      <th>Top_Topic_Terms</th>\n",
       "      <th>Label</th>\n",
       "    </tr>\n",
       "  </thead>\n",
       "  <tbody>\n",
       "    <tr>\n",
       "      <th>0</th>\n",
       "      <td>market company growth share firm economy year ...</td>\n",
       "      <td>business</td>\n",
       "    </tr>\n",
       "    <tr>\n",
       "      <th>1</th>\n",
       "      <td>game player match team time champion win injury</td>\n",
       "      <td>sport</td>\n",
       "    </tr>\n",
       "    <tr>\n",
       "      <th>2</th>\n",
       "      <td>film award actor oscar star actress director m...</td>\n",
       "      <td>entertainment</td>\n",
       "    </tr>\n",
       "    <tr>\n",
       "      <th>3</th>\n",
       "      <td>election party labour government minister tory...</td>\n",
       "      <td>politics</td>\n",
       "    </tr>\n",
       "    <tr>\n",
       "      <th>4</th>\n",
       "      <td>people user technology phone service computer ...</td>\n",
       "      <td>tech</td>\n",
       "    </tr>\n",
       "  </tbody>\n",
       "</table>\n",
       "</div>"
      ],
      "text/plain": [
       "                                     Top_Topic_Terms          Label\n",
       "0  market company growth share firm economy year ...       business\n",
       "1   game player match team time champion win injury           sport\n",
       "2  film award actor oscar star actress director m...  entertainment\n",
       "3  election party labour government minister tory...       politics\n",
       "4  people user technology phone service computer ...           tech"
      ]
     },
     "execution_count": 28,
     "metadata": {},
     "output_type": "execute_result"
    }
   ],
   "source": [
    "# Manually Recode the topics \n",
    "\n",
    "topic_df['Label'] = ['business', 'sport', 'entertainment', 'politics', 'tech']\n",
    "\n",
    "topic_df"
   ]
  },
  {
   "cell_type": "markdown",
   "id": "c7c8694b",
   "metadata": {},
   "source": [
    "## Hyperparameter tuning "
   ]
  },
  {
   "cell_type": "code",
   "execution_count": 29,
   "id": "85914cd4",
   "metadata": {},
   "outputs": [
    {
     "name": "stderr",
     "output_type": "stream",
     "text": [
      "C:\\Users\\Julia\\anaconda3\\lib\\site-packages\\sklearn\\decomposition\\_nmf.py:1561: UserWarning: The multiplicative update ('mu') solver cannot update zeros present in the initialization, and so leads to poorer results when used jointly with init='nndsvd'. You may try init='nndsvda' or init='nndsvdar' instead.\n",
      "  warnings.warn(\n",
      "C:\\Users\\Julia\\anaconda3\\lib\\site-packages\\sklearn\\decomposition\\_nmf.py:1561: UserWarning: The multiplicative update ('mu') solver cannot update zeros present in the initialization, and so leads to poorer results when used jointly with init='nndsvd'. You may try init='nndsvda' or init='nndsvdar' instead.\n",
      "  warnings.warn(\n"
     ]
    },
    {
     "name": "stdout",
     "output_type": "stream",
     "text": [
      "Best Hyperparameters:\n",
      " init                         nndsvda\n",
      "solver                            mu\n",
      "beta_loss           kullback-leibler\n",
      "accuracy_recoded            0.956944\n",
      "accuracy_raw                0.373611\n",
      "Name: 10, dtype: object\n"
     ]
    }
   ],
   "source": [
    "\n",
    "\n",
    "# Define the mapping dictionary\n",
    "# The class values are selected randomly \n",
    "mapping_dict = {0: 'business', 1: 'sport', 2: 'entertainment', 3: 'politics', 4: 'tech'}\n",
    "\n",
    "# Define the hyperparameter grid\n",
    "param_grid = {\n",
    "    'init': ['random', 'nndsvd', 'nndsvda', 'nndsvdar'],     # Initialization method\n",
    "    'solver': ['cd', 'mu'],           # Solver method\n",
    "    'beta_loss': ['frobenius', 'kullback-leibler']  # Loss function\n",
    "}\n",
    "\n",
    "# Prepare a DataFrame to store the results\n",
    "results = []\n",
    "\n",
    "\n",
    "# Iterate over all combinations of hyperparameters\n",
    "for params in ParameterGrid(param_grid):\n",
    "    \n",
    "     # Skip invalid combinations\n",
    "    if params['solver'] == 'cd' and params['beta_loss'] != 'frobenius':\n",
    "        continue  # Skip this iteration if the combination is invalid\n",
    "        \n",
    "        \n",
    "    # Initialize the NMF model with current hyperparameters\n",
    "    nmf = NMF(\n",
    "        n_components=5,\n",
    "        init=params['init'],\n",
    "        solver=params['solver'],\n",
    "        beta_loss=params['beta_loss'],\n",
    "        random_state=42\n",
    "    )\n",
    "    \n",
    "    # Fit the model to the data\n",
    "    W = nmf.fit_transform(features)\n",
    "    H = nmf.components_\n",
    "\n",
    "    # Compute accuracy score    \n",
    "    y_pred_numeric = W.argmax(axis=1)\n",
    "    y_pred_categorical = np.array([mapping_dict[value] for value in y_pred_numeric])\n",
    "\n",
    "    accuracy_recoded = accuracy_score(df1['Category'], y_pred_categorical)\n",
    "    accuracy_raw = accuracy_score(df1['category_id'], y_pred_numeric)  # results without manually recoding the classes \n",
    "\n",
    "    # Record the results\n",
    "    results.append({\n",
    "        'init': params['init'],\n",
    "        'solver': params['solver'],\n",
    "        'beta_loss': params['beta_loss'],\n",
    "        'accuracy_recoded' : accuracy_recoded,\n",
    "        'accuracy_raw' : accuracy_raw\n",
    "    })\n",
    "\n",
    "# Convert the results into a DataFrame for easy analysis\n",
    "NMF_best_params = pd.DataFrame(results)\n",
    "\n",
    "# Display the best results\n",
    "best_result = NMF_best_params .loc[NMF_best_params['accuracy_recoded'].idxmax()]\n",
    "print(\"Best Hyperparameters:\\n\", best_result)\n",
    "\n"
   ]
  },
  {
   "cell_type": "code",
   "execution_count": 30,
   "id": "dfff1a79",
   "metadata": {},
   "outputs": [
    {
     "data": {
      "text/html": [
       "<div>\n",
       "<style scoped>\n",
       "    .dataframe tbody tr th:only-of-type {\n",
       "        vertical-align: middle;\n",
       "    }\n",
       "\n",
       "    .dataframe tbody tr th {\n",
       "        vertical-align: top;\n",
       "    }\n",
       "\n",
       "    .dataframe thead th {\n",
       "        text-align: right;\n",
       "    }\n",
       "</style>\n",
       "<table border=\"1\" class=\"dataframe\">\n",
       "  <thead>\n",
       "    <tr style=\"text-align: right;\">\n",
       "      <th></th>\n",
       "      <th>init</th>\n",
       "      <th>solver</th>\n",
       "      <th>beta_loss</th>\n",
       "      <th>accuracy_recoded</th>\n",
       "      <th>accuracy_raw</th>\n",
       "    </tr>\n",
       "  </thead>\n",
       "  <tbody>\n",
       "    <tr>\n",
       "      <th>0</th>\n",
       "      <td>random</td>\n",
       "      <td>cd</td>\n",
       "      <td>frobenius</td>\n",
       "      <td>0.597917</td>\n",
       "      <td>0.540278</td>\n",
       "    </tr>\n",
       "    <tr>\n",
       "      <th>1</th>\n",
       "      <td>random</td>\n",
       "      <td>mu</td>\n",
       "      <td>frobenius</td>\n",
       "      <td>0.015972</td>\n",
       "      <td>0.425000</td>\n",
       "    </tr>\n",
       "    <tr>\n",
       "      <th>2</th>\n",
       "      <td>nndsvd</td>\n",
       "      <td>cd</td>\n",
       "      <td>frobenius</td>\n",
       "      <td>0.934722</td>\n",
       "      <td>0.361806</td>\n",
       "    </tr>\n",
       "    <tr>\n",
       "      <th>3</th>\n",
       "      <td>nndsvd</td>\n",
       "      <td>mu</td>\n",
       "      <td>frobenius</td>\n",
       "      <td>0.931250</td>\n",
       "      <td>0.377778</td>\n",
       "    </tr>\n",
       "    <tr>\n",
       "      <th>4</th>\n",
       "      <td>nndsvda</td>\n",
       "      <td>cd</td>\n",
       "      <td>frobenius</td>\n",
       "      <td>0.935417</td>\n",
       "      <td>0.362500</td>\n",
       "    </tr>\n",
       "    <tr>\n",
       "      <th>5</th>\n",
       "      <td>nndsvda</td>\n",
       "      <td>mu</td>\n",
       "      <td>frobenius</td>\n",
       "      <td>0.945833</td>\n",
       "      <td>0.372917</td>\n",
       "    </tr>\n",
       "    <tr>\n",
       "      <th>6</th>\n",
       "      <td>nndsvdar</td>\n",
       "      <td>cd</td>\n",
       "      <td>frobenius</td>\n",
       "      <td>0.934722</td>\n",
       "      <td>0.361806</td>\n",
       "    </tr>\n",
       "    <tr>\n",
       "      <th>7</th>\n",
       "      <td>nndsvdar</td>\n",
       "      <td>mu</td>\n",
       "      <td>frobenius</td>\n",
       "      <td>0.947222</td>\n",
       "      <td>0.373611</td>\n",
       "    </tr>\n",
       "    <tr>\n",
       "      <th>8</th>\n",
       "      <td>random</td>\n",
       "      <td>mu</td>\n",
       "      <td>kullback-leibler</td>\n",
       "      <td>0.038194</td>\n",
       "      <td>0.434028</td>\n",
       "    </tr>\n",
       "    <tr>\n",
       "      <th>9</th>\n",
       "      <td>nndsvd</td>\n",
       "      <td>mu</td>\n",
       "      <td>kullback-leibler</td>\n",
       "      <td>0.945139</td>\n",
       "      <td>0.377083</td>\n",
       "    </tr>\n",
       "    <tr>\n",
       "      <th>10</th>\n",
       "      <td>nndsvda</td>\n",
       "      <td>mu</td>\n",
       "      <td>kullback-leibler</td>\n",
       "      <td>0.956944</td>\n",
       "      <td>0.373611</td>\n",
       "    </tr>\n",
       "    <tr>\n",
       "      <th>11</th>\n",
       "      <td>nndsvdar</td>\n",
       "      <td>mu</td>\n",
       "      <td>kullback-leibler</td>\n",
       "      <td>0.954861</td>\n",
       "      <td>0.371528</td>\n",
       "    </tr>\n",
       "  </tbody>\n",
       "</table>\n",
       "</div>"
      ],
      "text/plain": [
       "        init solver         beta_loss  accuracy_recoded  accuracy_raw\n",
       "0     random     cd         frobenius          0.597917      0.540278\n",
       "1     random     mu         frobenius          0.015972      0.425000\n",
       "2     nndsvd     cd         frobenius          0.934722      0.361806\n",
       "3     nndsvd     mu         frobenius          0.931250      0.377778\n",
       "4    nndsvda     cd         frobenius          0.935417      0.362500\n",
       "5    nndsvda     mu         frobenius          0.945833      0.372917\n",
       "6   nndsvdar     cd         frobenius          0.934722      0.361806\n",
       "7   nndsvdar     mu         frobenius          0.947222      0.373611\n",
       "8     random     mu  kullback-leibler          0.038194      0.434028\n",
       "9     nndsvd     mu  kullback-leibler          0.945139      0.377083\n",
       "10   nndsvda     mu  kullback-leibler          0.956944      0.373611\n",
       "11  nndsvdar     mu  kullback-leibler          0.954861      0.371528"
      ]
     },
     "execution_count": 30,
     "metadata": {},
     "output_type": "execute_result"
    }
   ],
   "source": [
    "NMF_best_params "
   ]
  },
  {
   "cell_type": "markdown",
   "id": "cfd5cb0f",
   "metadata": {},
   "source": [
    "## Fit Model on Best Hyperparameters "
   ]
  },
  {
   "cell_type": "code",
   "execution_count": 31,
   "id": "aef34570",
   "metadata": {},
   "outputs": [],
   "source": [
    "n_topics = 5\n",
    "random_state = 42\n",
    "\n",
    "# Initialize NMF model\n",
    "nmf = NMF(n_components=n_topics, \n",
    "          init = 'nndsvda', \n",
    "          solver = 'mu',\n",
    "          beta_loss = 'kullback-leibler',\n",
    "          random_state=random_state)\n",
    "\n",
    "\n",
    "# Fit and transform the features with NMF\n",
    "W = nmf.fit_transform(features)  #Topic Distribtions \n",
    "H = nmf.components_  # word topic matrix \n",
    "\n",
    "# Store most representative topic for each article \n",
    "df1[\"Topic_idx\"] = W.argmax(axis=1)\n",
    "\n",
    "# Join the original dataset with labels\n",
    "df2 = pd.merge(df1, topic_df, left_on='Topic_idx', right_index=True, how='left')"
   ]
  },
  {
   "cell_type": "code",
   "execution_count": 32,
   "id": "a7730b44",
   "metadata": {},
   "outputs": [
    {
     "name": "stdout",
     "output_type": "stream",
     "text": [
      "Confusion Matrix:\n",
      "[[313   0  11   0  11]\n",
      " [  1 254   6   0   2]\n",
      " [ 10   2 251   1   2]\n",
      " [  1   0   2 339   0]\n",
      " [  4   5   2   2 221]]\n",
      "\n",
      "Classification Report:\n",
      "               precision    recall  f1-score   support\n",
      "\n",
      "     business       0.95      0.93      0.94       335\n",
      "entertainment       0.97      0.97      0.97       263\n",
      "     politics       0.92      0.94      0.93       266\n",
      "        sport       0.99      0.99      0.99       342\n",
      "         tech       0.94      0.94      0.94       234\n",
      "\n",
      "     accuracy                           0.96      1440\n",
      "    macro avg       0.96      0.96      0.96      1440\n",
      " weighted avg       0.96      0.96      0.96      1440\n",
      "\n"
     ]
    }
   ],
   "source": [
    "\n",
    "print(\"Confusion Matrix:\")\n",
    "print(confusion_matrix(df2['Category'], df2['Label']))\n",
    "print(\"\\nClassification Report:\")\n",
    "print(classification_report(df2['Category'], df2['Label']))"
   ]
  },
  {
   "cell_type": "markdown",
   "id": "4a032d74",
   "metadata": {},
   "source": [
    "## Predict Topics on Unseen Data "
   ]
  },
  {
   "cell_type": "code",
   "execution_count": null,
   "id": "3c0af4f7",
   "metadata": {},
   "outputs": [],
   "source": [
    "# Predict topics for the test set\n",
    "y_pred_NMF = nmf.transform(tfidf_test).argmax(axis=1)\n",
    "\n",
    "# Create a DataFrame for predicted topics\n",
    "y_pred_NMF_df = pd.DataFrame({\"Topic_idx\" : y_pred_NMF})\n",
    "\n",
    "# Merge with topic labels\n",
    "y_pred_NMF_df_2 = pd.merge(y_pred_df, topic_df, left_on='Topic_idx', right_index=True, how='left')\n",
    "\n",
    "# Prepare the submission DataFrame\n",
    "NMF_submission = pd.DataFrame(test_set['ArticleId'])\n",
    "NMF_submission['Category'] = y_pred_NMF_df_2['Label']\n",
    "NMF_submission.to_csv('nmf_test_results.csv', index=False)\n"
   ]
  },
  {
   "cell_type": "markdown",
   "id": "a7c8340a",
   "metadata": {},
   "source": [
    "# Supervised Machine Learning "
   ]
  },
  {
   "cell_type": "markdown",
   "id": "099ce3c1",
   "metadata": {},
   "source": [
    "The performance of the unsupervised algorithm Non-negative Matrix Factorization will be compared against several supervised algorithms. \n",
    "- Logistic Regression\n",
    "- Multinomial Naive Bayes\n",
    "- Support Vector Machines\n",
    "- Random Forest\n",
    "- Gradient Boosting "
   ]
  },
  {
   "cell_type": "markdown",
   "id": "45b445dc",
   "metadata": {},
   "source": [
    "## Model Selection "
   ]
  },
  {
   "cell_type": "code",
   "execution_count": 33,
   "id": "ab8418a2",
   "metadata": {},
   "outputs": [],
   "source": [
    "from sklearn.model_selection import cross_val_score\n",
    "\n",
    "models = [\n",
    "    RandomForestClassifier(n_estimators=100, max_depth=5, random_state=0),\n",
    "    LinearSVC(dual = 'auto'),\n",
    "    MultinomialNB(),\n",
    "    LogisticRegression(random_state=0)\n",
    "    \n",
    "]\n",
    "# 5 Cross-validation\n",
    "CV = 5\n",
    "\n",
    "cv_df = pd.DataFrame(index=range(CV * len(models)))\n",
    "entries = []\n",
    "\n",
    "classification_reports = {}\n",
    "\n",
    "for model in models:\n",
    "    model_name = model.__class__.__name__\n",
    "    accuracies = cross_val_score(model, features, labels, scoring='accuracy', cv=CV)\n",
    "    for fold_idx, accuracy in enumerate(accuracies):\n",
    "        entries.append((model_name, fold_idx, accuracy))\n",
    "        \n",
    "cv_df = pd.DataFrame(entries, columns=['model_name', 'fold_idx', 'accuracy'])\n"
   ]
  },
  {
   "cell_type": "code",
   "execution_count": 34,
   "id": "b24ef31d",
   "metadata": {},
   "outputs": [
    {
     "data": {
      "image/png": "[encoded data removed]",
      "text/plain": [
       "<Figure size 1008x360 with 1 Axes>"
      ]
     },
     "metadata": {},
     "output_type": "display_data"
    }
   ],
   "source": [
    "import seaborn as sns\n",
    "\n",
    "plt.figure(figsize=(14,5))\n",
    "sns.boxplot(x='model_name', y='accuracy', \n",
    "            data=cv_df, \n",
    "            color='lightblue', \n",
    "            showmeans=True)\n",
    "plt.title(\"MEAN ACCURACY (cv = 5)n\", size=14);"
   ]
  },
  {
   "cell_type": "code",
   "execution_count": 35,
   "id": "9c7a8ae8",
   "metadata": {},
   "outputs": [
    {
     "data": {
      "text/html": [
       "<div>\n",
       "<style scoped>\n",
       "    .dataframe tbody tr th:only-of-type {\n",
       "        vertical-align: middle;\n",
       "    }\n",
       "\n",
       "    .dataframe tbody tr th {\n",
       "        vertical-align: top;\n",
       "    }\n",
       "\n",
       "    .dataframe thead th {\n",
       "        text-align: right;\n",
       "    }\n",
       "</style>\n",
       "<table border=\"1\" class=\"dataframe\">\n",
       "  <thead>\n",
       "    <tr style=\"text-align: right;\">\n",
       "      <th></th>\n",
       "      <th>Mean Accuracy</th>\n",
       "      <th>Standard deviation</th>\n",
       "    </tr>\n",
       "    <tr>\n",
       "      <th>model_name</th>\n",
       "      <th></th>\n",
       "      <th></th>\n",
       "    </tr>\n",
       "  </thead>\n",
       "  <tbody>\n",
       "    <tr>\n",
       "      <th>LinearSVC</th>\n",
       "      <td>0.971528</td>\n",
       "      <td>0.013758</td>\n",
       "    </tr>\n",
       "    <tr>\n",
       "      <th>LogisticRegression</th>\n",
       "      <td>0.965972</td>\n",
       "      <td>0.011358</td>\n",
       "    </tr>\n",
       "    <tr>\n",
       "      <th>MultinomialNB</th>\n",
       "      <td>0.964583</td>\n",
       "      <td>0.013758</td>\n",
       "    </tr>\n",
       "    <tr>\n",
       "      <th>RandomForestClassifier</th>\n",
       "      <td>0.892361</td>\n",
       "      <td>0.019795</td>\n",
       "    </tr>\n",
       "  </tbody>\n",
       "</table>\n",
       "</div>"
      ],
      "text/plain": [
       "                        Mean Accuracy  Standard deviation\n",
       "model_name                                               \n",
       "LinearSVC                    0.971528            0.013758\n",
       "LogisticRegression           0.965972            0.011358\n",
       "MultinomialNB                0.964583            0.013758\n",
       "RandomForestClassifier       0.892361            0.019795"
      ]
     },
     "execution_count": 35,
     "metadata": {},
     "output_type": "execute_result"
    }
   ],
   "source": [
    "mean_accuracy = cv_df.groupby('model_name').accuracy.mean()\n",
    "std_accuracy = cv_df.groupby('model_name').accuracy.std()\n",
    "\n",
    "acc = pd.concat([mean_accuracy, std_accuracy], axis= 1, \n",
    "          ignore_index=True)\n",
    "acc.columns = ['Mean Accuracy', 'Standard deviation']\n",
    "acc"
   ]
  },
  {
   "cell_type": "markdown",
   "id": "65aa9bc5",
   "metadata": {},
   "source": [
    "## Multi-Class Classification with LinearSVC"
   ]
  },
  {
   "cell_type": "markdown",
   "id": "abad393b",
   "metadata": {},
   "source": [
    "In the evaluation of several machine learning algorithms for text classification, LinearSVC demonstrated the highest performance among the tested models. The LinearSVC model achieved an accuracy score of 0.972, which outperformed other algorithms.\n",
    "\n",
    "Despite extensive hyperparameter tuning through GridSearchCV, no improvements were observed over the base model results for LinearSVC. This suggests that the default hyperparameters of the LinearSVC model were already well-suited for this particular dataset, or that the model's performance was optimized without the need for further adjustments."
   ]
  },
  {
   "cell_type": "code",
   "execution_count": 36,
   "id": "ffcc5389",
   "metadata": {},
   "outputs": [],
   "source": [
    "X_train, X_test, y_train, y_test,indices_train,indices_test = train_test_split(features, labels, df1.index, test_size=0.2,random_state=1)\n",
    "model = LinearSVC(dual=\"auto\")\n",
    "model.fit(X_train, y_train)\n",
    "\n",
    "y_pred_train_test_split = model.predict(X_test)\n"
   ]
  },
  {
   "cell_type": "code",
   "execution_count": 37,
   "id": "f9c508e6",
   "metadata": {},
   "outputs": [
    {
     "name": "stdout",
     "output_type": "stream",
     "text": [
      "CLASSIFICATIION METRICS\n",
      "               precision    recall  f1-score   support\n",
      "\n",
      "     business       0.99      0.97      0.98        69\n",
      "         tech       1.00      0.96      0.98        47\n",
      "     politics       0.94      1.00      0.97        50\n",
      "        sport       1.00      1.00      1.00        77\n",
      "entertainment       1.00      1.00      1.00        45\n",
      "\n",
      "     accuracy                           0.99       288\n",
      "    macro avg       0.99      0.99      0.99       288\n",
      " weighted avg       0.99      0.99      0.99       288\n",
      "\n"
     ]
    }
   ],
   "source": [
    "\n",
    "# Classification report\n",
    "print('CLASSIFICATIION METRICS')\n",
    "print(metrics.classification_report(y_test, y_pred_train_test_split, \n",
    "                                    target_names= df1['Category'].unique()))"
   ]
  },
  {
   "cell_type": "markdown",
   "id": "197aa3ad",
   "metadata": {},
   "source": [
    "## Prediction on Unseen Data"
   ]
  },
  {
   "cell_type": "code",
   "execution_count": null,
   "id": "89631b14",
   "metadata": {},
   "outputs": [],
   "source": [
    "y_pred_SVC = model.predict(tfidf_test)\n",
    "\n",
    "SVC_submission = pd.DataFrame(test_set['ArticleId'])\n",
    "SVC_submission['Category'] = [id_to_category[value] for value in y_pred_SVC]\n",
    "SVC_submission.to_csv('SVC_test_results.csv', index=False)\n"
   ]
  },
  {
   "cell_type": "markdown",
   "id": "527a5d41",
   "metadata": {},
   "source": [
    "# Supervised Learning Model Results (Linear SVC)"
   ]
  },
  {
   "cell_type": "code",
   "execution_count": 38,
   "id": "5d210814",
   "metadata": {},
   "outputs": [
    {
     "name": "stdout",
     "output_type": "stream",
     "text": [
      "training accuracy Supervised ML (Linear SVC): 0.9972\n",
      "test accuracy Supervised ML (Linear SVC): 0.976\n"
     ]
    }
   ],
   "source": [
    "\n",
    "training_accuracy = accuracy_score(df1['category_id'], model.predict(features))  # full training set \n",
    "\n",
    "\n",
    "print('training accuracy Supervised ML (Linear SVC):', round(training_accuracy, 4))\n",
    "print('test accuracy Supervised ML (Linear SVC):', 0.976)  # result from kaggle "
   ]
  },
  {
   "cell_type": "markdown",
   "id": "f6d96d0c",
   "metadata": {},
   "source": [
    "## Compare Data Efficiency "
   ]
  },
  {
   "cell_type": "code",
   "execution_count": 39,
   "id": "2fcd1cfb",
   "metadata": {},
   "outputs": [],
   "source": [
    "\n",
    "# Supervised Learning \n",
    "\n",
    "split_ratios = [0.1, 0.2, 0.3, 0.4, 0.5]  # Train-test split ratios\n",
    "\n",
    "results = []\n",
    "\n",
    "for ratio in split_ratios:\n",
    "    # Split the data\n",
    "    X_train, X_test, y_train, y_test = train_test_split(features, labels, test_size=ratio, random_state=0)\n",
    "    \n",
    "    model = LinearSVC(dual=\"auto\")\n",
    "    model.fit(X_train, y_train)\n",
    "    \n",
    "    y_pred_train = model.predict(X_train)\n",
    "\n",
    "    y_pred_test = model.predict(X_test)\n",
    "    \n",
    "    \n",
    "    # Calculate accuracy\n",
    "    accuracy_train = accuracy_score(y_train, y_pred_train)\n",
    "    accuracy_test = accuracy_score(y_test, y_pred_test)\n",
    "    \n",
    "    \n",
    "    # Collect results\n",
    "    results.append({\n",
    "        'Split Ratio': ratio,\n",
    "        'Train Accuracy': accuracy_train,\n",
    "        'Test Accuracy': accuracy_test,\n",
    "        #'Classification Report': classification_report(y_test, y_pred, output_dict=True)\n",
    "    })\n",
    "\n",
    "# Convert results to a DataFrame\n",
    "results_SVC = pd.DataFrame(results)"
   ]
  },
  {
   "cell_type": "code",
   "execution_count": 40,
   "id": "f7bb1e25",
   "metadata": {},
   "outputs": [
    {
     "data": {
      "text/html": [
       "<div>\n",
       "<style scoped>\n",
       "    .dataframe tbody tr th:only-of-type {\n",
       "        vertical-align: middle;\n",
       "    }\n",
       "\n",
       "    .dataframe tbody tr th {\n",
       "        vertical-align: top;\n",
       "    }\n",
       "\n",
       "    .dataframe thead th {\n",
       "        text-align: right;\n",
       "    }\n",
       "</style>\n",
       "<table border=\"1\" class=\"dataframe\">\n",
       "  <thead>\n",
       "    <tr style=\"text-align: right;\">\n",
       "      <th></th>\n",
       "      <th>Split Ratio</th>\n",
       "      <th>Train Accuracy</th>\n",
       "      <th>Test Accuracy</th>\n",
       "    </tr>\n",
       "  </thead>\n",
       "  <tbody>\n",
       "    <tr>\n",
       "      <th>0</th>\n",
       "      <td>0.1</td>\n",
       "      <td>1.0</td>\n",
       "      <td>0.965278</td>\n",
       "    </tr>\n",
       "    <tr>\n",
       "      <th>1</th>\n",
       "      <td>0.2</td>\n",
       "      <td>1.0</td>\n",
       "      <td>0.972222</td>\n",
       "    </tr>\n",
       "    <tr>\n",
       "      <th>2</th>\n",
       "      <td>0.3</td>\n",
       "      <td>1.0</td>\n",
       "      <td>0.967593</td>\n",
       "    </tr>\n",
       "    <tr>\n",
       "      <th>3</th>\n",
       "      <td>0.4</td>\n",
       "      <td>1.0</td>\n",
       "      <td>0.967014</td>\n",
       "    </tr>\n",
       "    <tr>\n",
       "      <th>4</th>\n",
       "      <td>0.5</td>\n",
       "      <td>1.0</td>\n",
       "      <td>0.963889</td>\n",
       "    </tr>\n",
       "  </tbody>\n",
       "</table>\n",
       "</div>"
      ],
      "text/plain": [
       "   Split Ratio  Train Accuracy  Test Accuracy\n",
       "0          0.1             1.0       0.965278\n",
       "1          0.2             1.0       0.972222\n",
       "2          0.3             1.0       0.967593\n",
       "3          0.4             1.0       0.967014\n",
       "4          0.5             1.0       0.963889"
      ]
     },
     "execution_count": 40,
     "metadata": {},
     "output_type": "execute_result"
    }
   ],
   "source": [
    "results_SVC \n"
   ]
  },
  {
   "cell_type": "code",
   "execution_count": 41,
   "id": "516f7910",
   "metadata": {},
   "outputs": [
    {
     "data": {
      "image/png": "[encoded data removed]",
      "text/plain": [
       "<Figure size 720x432 with 1 Axes>"
      ]
     },
     "metadata": {},
     "output_type": "display_data"
    }
   ],
   "source": [
    "results_SVC_melt = results_SVC.melt(id_vars='Split Ratio', \n",
    "                     value_vars=['Test Accuracy', 'Train Accuracy'],\n",
    "                     var_name='Learning Phase', \n",
    "                     value_name='Accuracy')\n",
    "\n",
    "\n",
    "# Create the plot\n",
    "plt.figure(figsize=(10, 6))\n",
    "sns.lineplot(data=results_SVC_melt, x='Split Ratio', y='Accuracy', hue='Learning Phase', marker='o')\n",
    "plt.ylim(0, 1.2)  # Set y-axis to start from 0 and end at 1\n",
    "\n",
    "# Customize x-axis ticks\n",
    "x_ticks = [0.1, 0.2, 0.3, 0.4, 0.5]  # Define the positions for x-axis ticks\n",
    "plt.xticks(ticks=x_ticks)  # Set x-axis ticks\n",
    "\n",
    "plt.title('Test and Train Accuracy vs. Split Ratio (LinearSVC)')\n",
    "plt.xlabel('Split Ratio')\n",
    "plt.ylabel('Accuracy')\n",
    "plt.grid(True)\n",
    "plt.show()"
   ]
  },
  {
   "cell_type": "code",
   "execution_count": 42,
   "id": "7c9d715c",
   "metadata": {},
   "outputs": [],
   "source": [
    "\n",
    "n_topics = 5\n",
    "split_ratios = [0.1, 0.2, 0.3, 0.4, 0.5]  # Train-test split ratios\n",
    "\n",
    "results = []\n",
    "\n",
    "mapping_dict = {0: 'business', 1: 'sport', 2: 'entertainment', 3: 'politics', 4: 'tech'}\n",
    "\n",
    "for ratio in split_ratios:\n",
    "    # Split the data\n",
    "    X_train, X_test, y_train, y_test = train_test_split(features, df1['Category'], test_size=ratio, random_state=0)\n",
    "        \n",
    "        \n",
    "    # Initialize the NMF model with current hyperparameters\n",
    "  # Initialize NMF model\n",
    "    nmf = NMF(n_components=n_topics, \n",
    "          init = 'nndsvda', \n",
    "          solver = 'mu',\n",
    "          beta_loss = 'kullback-leibler',\n",
    "          random_state=random_state)\n",
    "\n",
    "    \n",
    "    # Fit the model to the data \n",
    "    y_pred_train_raw = nmf.fit_transform(X_train).argmax(axis=1)\n",
    "    y_pred_train = np.array([mapping_dict[value] for value in y_pred_train_raw])\n",
    "    \n",
    "\n",
    "    # Predict test data\n",
    "    y_pred_test_raw = nmf.transform(X_test).argmax(axis=1)   \n",
    "    y_pred_test = np.array([mapping_dict[value] for value in y_pred_test_raw])\n",
    "    \n",
    "    \n",
    "    # Compute accuracy score \n",
    "    accuracy_train = accuracy_score(y_train, y_pred_train)\n",
    "    accuracy_test = accuracy_score(y_test, y_pred_test)  \n",
    "\n",
    "    \n",
    "    # Collect results\n",
    "    results.append({\n",
    "        'Split Ratio': ratio,\n",
    "        'Train Accuracy': accuracy_train,\n",
    "        'Test Accuracy': accuracy_test,\n",
    "        #'Classification Report': classification_report(y_test, y_pred, output_dict=True)\n",
    "    })\n",
    "\n",
    "# Convert the results into a DataFrame for easy analysis\n",
    "results_NMF = pd.DataFrame(results)"
   ]
  },
  {
   "cell_type": "code",
   "execution_count": 43,
   "id": "6d930642",
   "metadata": {},
   "outputs": [
    {
     "data": {
      "text/html": [
       "<div>\n",
       "<style scoped>\n",
       "    .dataframe tbody tr th:only-of-type {\n",
       "        vertical-align: middle;\n",
       "    }\n",
       "\n",
       "    .dataframe tbody tr th {\n",
       "        vertical-align: top;\n",
       "    }\n",
       "\n",
       "    .dataframe thead th {\n",
       "        text-align: right;\n",
       "    }\n",
       "</style>\n",
       "<table border=\"1\" class=\"dataframe\">\n",
       "  <thead>\n",
       "    <tr style=\"text-align: right;\">\n",
       "      <th></th>\n",
       "      <th>Split Ratio</th>\n",
       "      <th>Train Accuracy</th>\n",
       "      <th>Test Accuracy</th>\n",
       "    </tr>\n",
       "  </thead>\n",
       "  <tbody>\n",
       "    <tr>\n",
       "      <th>0</th>\n",
       "      <td>0.1</td>\n",
       "      <td>0.954475</td>\n",
       "      <td>0.951389</td>\n",
       "    </tr>\n",
       "    <tr>\n",
       "      <th>1</th>\n",
       "      <td>0.2</td>\n",
       "      <td>0.947917</td>\n",
       "      <td>0.961806</td>\n",
       "    </tr>\n",
       "    <tr>\n",
       "      <th>2</th>\n",
       "      <td>0.3</td>\n",
       "      <td>0.947421</td>\n",
       "      <td>0.958333</td>\n",
       "    </tr>\n",
       "    <tr>\n",
       "      <th>3</th>\n",
       "      <td>0.4</td>\n",
       "      <td>0.929398</td>\n",
       "      <td>0.935764</td>\n",
       "    </tr>\n",
       "    <tr>\n",
       "      <th>4</th>\n",
       "      <td>0.5</td>\n",
       "      <td>0.286111</td>\n",
       "      <td>0.243056</td>\n",
       "    </tr>\n",
       "  </tbody>\n",
       "</table>\n",
       "</div>"
      ],
      "text/plain": [
       "   Split Ratio  Train Accuracy  Test Accuracy\n",
       "0          0.1        0.954475       0.951389\n",
       "1          0.2        0.947917       0.961806\n",
       "2          0.3        0.947421       0.958333\n",
       "3          0.4        0.929398       0.935764\n",
       "4          0.5        0.286111       0.243056"
      ]
     },
     "execution_count": 43,
     "metadata": {},
     "output_type": "execute_result"
    }
   ],
   "source": [
    "results_NMF"
   ]
  },
  {
   "cell_type": "code",
   "execution_count": 44,
   "id": "2a847b2c",
   "metadata": {},
   "outputs": [
    {
     "data": {
      "image/png": "[encoded data removed]",
      "text/plain": [
       "<Figure size 720x432 with 1 Axes>"
      ]
     },
     "metadata": {},
     "output_type": "display_data"
    }
   ],
   "source": [
    "results_NMF_melt = results_NMF.melt(id_vars='Split Ratio', \n",
    "                     value_vars=['Test Accuracy', 'Train Accuracy'],\n",
    "                     var_name='Learning Phase', \n",
    "                     value_name='Accuracy')\n",
    "\n",
    "\n",
    "# Create the plot\n",
    "plt.figure(figsize=(10, 6))\n",
    "sns.lineplot(data=results_NMF_melt, x='Split Ratio', y='Accuracy', hue='Learning Phase', marker='o')\n",
    "plt.ylim(0, 1.2)  # Set y-axis to start from 0 and end at 1\n",
    "# Customize x-axis ticks\n",
    "x_ticks = [0.1, 0.2, 0.3, 0.4, 0.5]  # Define the positions for x-axis ticks\n",
    "plt.xticks(ticks=x_ticks)  # Set x-axis ticks\n",
    "plt.title('Test and Train Accuracy vs. Split Ratio (NMF)')\n",
    "plt.xlabel('Split Ratio')\n",
    "plt.ylabel('Accuracy')\n",
    "plt.grid(True)\n",
    "plt.show()"
   ]
  },
  {
   "cell_type": "markdown",
   "id": "a5dbabe7",
   "metadata": {},
   "source": [
    "# Analysis of Topic Modeling with NMF and Comparison with Supervised Learning "
   ]
  },
  {
   "cell_type": "code",
   "execution_count": 45,
   "id": "ec76c4b2",
   "metadata": {},
   "outputs": [
    {
     "name": "stdout",
     "output_type": "stream",
     "text": [
      "training accuracy NMF: 0.9569\n",
      "test accuracy NMF: 0.94013\n",
      "training accuracy Supervised ML (Linear SVC): 0.9819\n",
      "test accuracy Supervised ML (Linear SVC): 0.976\n"
     ]
    }
   ],
   "source": [
    "\n",
    "training_accuracy_NMF = accuracy_score(df2['Category'], df2['Label'])\n",
    "\n",
    "print('training accuracy NMF:', round(training_accuracy_NMF, 4))\n",
    "print('test accuracy NMF:', 0.94013)  # result in kaggle \n",
    "\n",
    "\n",
    "training_accuracy_SVC = accuracy_score(df1['category_id'], model.predict(features))  # full training set \n",
    "\n",
    "print('training accuracy Supervised ML (Linear SVC):', round(training_accuracy_SVC, 4))\n",
    "print('test accuracy Supervised ML (Linear SVC):', 0.976)  # result from kaggle "
   ]
  },
  {
   "cell_type": "markdown",
   "id": "7cac272f",
   "metadata": {},
   "source": [
    "## Supervised vs. Unsupervised Learning Performance"
   ]
  },
  {
   "cell_type": "markdown",
   "id": "f47b6ed5",
   "metadata": {},
   "source": [
    "In our comparison between supervised and unsupervised learning approaches, supervised machine learning algorithms demonstrated superior performance over the unsupervised algorithm Non-Negative Matrix Factorization (NMF). \n",
    "\n",
    "- Linear Support Vector Classification (Linear SVC) achieved an impressive accuracy of 0.976 on the test dataset.\n",
    "- Non-Negative Matrix Factorization (NMF), on the other hand, attained an accuracy of 0.940.\n",
    "\n",
    "\n",
    "The notable performance of supervised learning can be attributed to its ability to leverage direct supervision, which helps the model learn clear patterns and relationships between inputs and outputs, leading to more accurate predictions. This advantage is evident as supervised models can achieve high accuracy even with a relatively small amount of data, whether it’s 50% or 90% of the dataset.\n",
    "\n",
    "Conversely, NMF experienced significant challenges when trained on only 50% of the data, with reported accuracies of 0.28 during training and 0.24 during testing. Despite these challenges, NMF still performed remarkably well with an accuracy of 0.94, showcasing its effectiveness even without labels. \n",
    "\n",
    "This comparison demonstrates the effectiveness of supervised learning in scenarios where labeled data is available, while also acknowledging the noteworthy capabilities of unsupervised methods like NMF in handling unlabeled data."
   ]
  }
 ],
 "metadata": {
  "kernelspec": {
   "display_name": "Python 3 (Spyder)",
   "language": "python3",
   "name": "python3"
  },
  "language_info": {
   "codemirror_mode": {
    "name": "ipython",
    "version": 3
   },
   "file_extension": ".py",
   "mimetype": "text/x-python",
   "name": "python",
   "nbconvert_exporter": "python",
   "pygments_lexer": "ipython3",
   "version": "3.9.18"
  }
 },
 "nbformat": 4,
 "nbformat_minor": 5
}
